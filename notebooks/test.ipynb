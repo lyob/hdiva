{
 "cells": [
  {
   "cell_type": "markdown",
   "id": "758141bd",
   "metadata": {},
   "source": [
    "# hVAE"
   ]
  },
  {
   "cell_type": "code",
   "execution_count": null,
   "id": "92283271",
   "metadata": {},
   "outputs": [],
   "source": [
    "# let's try to implement a hVAE\n",
    "\n",
    " "
   ]
  },
  {
   "cell_type": "markdown",
   "id": "fa9e1cc5",
   "metadata": {},
   "source": []
  },
  {
   "cell_type": "markdown",
   "id": "0387fb9e",
   "metadata": {},
   "source": [
    "# hierarchical dataset"
   ]
  },
  {
   "cell_type": "markdown",
   "id": "73fc4749",
   "metadata": {},
   "source": []
  }
 ],
 "metadata": {
  "kernelspec": {
   "display_name": "py310_kernel",
   "language": "python",
   "name": "py310_kernel"
  }
 },
 "nbformat": 4,
 "nbformat_minor": 5
}
