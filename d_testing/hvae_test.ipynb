{
 "cells": [
  {
   "cell_type": "code",
   "execution_count": 1,
   "id": "5b3a1128",
   "metadata": {},
   "outputs": [
    {
     "name": "stdout",
     "output_type": "stream",
     "text": [
      "['/mnt/ceph/users/blyo1/projects', '/mnt/sw/nix/store/71ksmx7k6xy3v9ksfkv5mp5kxxp64pd6-python-3.10.13-view/lib/python310.zip', '/mnt/sw/nix/store/71ksmx7k6xy3v9ksfkv5mp5kxxp64pd6-python-3.10.13-view/lib/python3.10', '/mnt/sw/nix/store/71ksmx7k6xy3v9ksfkv5mp5kxxp64pd6-python-3.10.13-view/lib/python3.10/lib-dynload', '', '/mnt/home/blyo1/venvs/py310/lib/python3.10/site-packages']\n"
     ]
    }
   ],
   "source": [
    "import numpy as np\n",
    "import torch\n",
    "import matplotlib.pyplot as plt\n",
    "import os\n",
    "import sys\n",
    "\n",
    "notebook_dir = os.getcwd()\n",
    "parent_dir = os.path.abspath(os.path.join(notebook_dir, '..'))\n",
    "if parent_dir not in sys.path:\n",
    "    sys.path.insert(0, parent_dir)\n",
    "print(sys.path)\n",
    "\n",
    "%reload_ext autoreload\n",
    "%autoreload 2\n",
    "\n",
    "device = torch.device(\"cuda\" if torch.cuda.is_available() else \"cpu\")"
   ]
  },
  {
   "cell_type": "markdown",
   "id": "d87df2b8",
   "metadata": {},
   "source": [
    "# hVAE"
   ]
  },
  {
   "cell_type": "code",
   "execution_count": null,
   "id": "13919540",
   "metadata": {},
   "outputs": [],
   "source": [
    "import argparse\n",
    "from b_models.vae import VariableConvEncoder, VariableConvDecoder, VAE, UNetDecoder\n",
    "\n",
    "num_channels = 1\n",
    "image_dims = 32\n",
    "latent_dims = 5\n",
    "\n",
    "enc = VariableConvEncoder(\n",
    "    num_channels,\n",
    "    image_dims,\n",
    "    latent_dims, \n",
    "    channels=[32, 32, 32], \n",
    "    bias=True,\n",
    ")\n",
    "\n",
    "dec = VariableConvDecoder(\n",
    "    num_channels,\n",
    "    image_dims,\n",
    "    latent_dims,\n",
    "    channels=[32, 32, 32],  # output_channels, kernel_size, stride, padding\n",
    "    output_channels=1,\n",
    "    bias=True,\n",
    ")\n",
    "\n",
    "vae = VAE(\n",
    "    encoder=enc,\n",
    "    decoder=dec,\n",
    "    kl_reduction=\"mean\"\n",
    ")"
   ]
  }
 ],
 "metadata": {
  "kernelspec": {
   "display_name": "py310_kernel",
   "language": "python",
   "name": "py310_kernel"
  }
 },
 "nbformat": 4,
 "nbformat_minor": 5
}
