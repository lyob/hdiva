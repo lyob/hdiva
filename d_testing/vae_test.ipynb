{
 "cells": [
  {
   "cell_type": "code",
   "execution_count": 1,
   "id": "daf0b44e",
   "metadata": {},
   "outputs": [
    {
     "name": "stdout",
     "output_type": "stream",
     "text": [
      "['/mnt/ceph/users/blyo1/projects', '/mnt/sw/nix/store/71ksmx7k6xy3v9ksfkv5mp5kxxp64pd6-python-3.10.13-view/lib/python310.zip', '/mnt/sw/nix/store/71ksmx7k6xy3v9ksfkv5mp5kxxp64pd6-python-3.10.13-view/lib/python3.10', '/mnt/sw/nix/store/71ksmx7k6xy3v9ksfkv5mp5kxxp64pd6-python-3.10.13-view/lib/python3.10/lib-dynload', '', '/mnt/home/blyo1/venvs/py310/lib/python3.10/site-packages']\n"
     ]
    }
   ],
   "source": [
    "import numpy as np\n",
    "import torch\n",
    "import matplotlib.pyplot as plt\n",
    "import os\n",
    "import sys\n",
    "\n",
    "notebook_dir = os.getcwd()\n",
    "parent_dir = os.path.abspath(os.path.join(notebook_dir, '..'))\n",
    "if parent_dir not in sys.path:\n",
    "    sys.path.insert(0, parent_dir)\n",
    "print(sys.path)\n",
    "\n",
    "%reload_ext autoreload\n",
    "%autoreload 2\n",
    "\n",
    "device = torch.device(\"cuda\" if torch.cuda.is_available() else \"cpu\")"
   ]
  },
  {
   "cell_type": "markdown",
   "id": "f51573d8",
   "metadata": {},
   "source": [
    "# VAE"
   ]
  },
  {
   "cell_type": "code",
   "execution_count": 30,
   "id": "d76f2c04",
   "metadata": {},
   "outputs": [],
   "source": [
    "import argparse\n",
    "from b_models.vae import VariableConvEncoder, VariableConvDecoder, VAE, UNetDecoder\n",
    "\n",
    "num_channels = 1\n",
    "image_dims = 32\n",
    "latent_dims = 6\n",
    "\n",
    "enc = VariableConvEncoder(\n",
    "    num_channels,\n",
    "    image_dims,\n",
    "    latent_dims, \n",
    "    channels=[32, 36, 64], \n",
    "    bias=True,\n",
    ")\n",
    "\n",
    "dec = VariableConvDecoder(\n",
    "    num_channels,\n",
    "    image_dims,\n",
    "    latent_dims,\n",
    "    channels=[64, 36, 32],  # output_channels, kernel_size, stride, padding\n",
    "    output_channels=1,\n",
    "    bias=True,\n",
    ")\n",
    "\n",
    "# args = argparse.Namespace()\n",
    "# args.num_channels = num_channels\n",
    "# args.kernel_size = 3\n",
    "# args.padding = 1\n",
    "# args.time_channels = 32\n",
    "# args.image_dims = image_dims\n",
    "# args.pool_window = 2\n",
    "# args.num_blocks = 2\n",
    "# args.num_enc_conv = 2\n",
    "# args.num_mid_conv = 2\n",
    "# args.num_dec_conv = 2\n",
    "# args.latent_dims = latent_dims\n",
    "# args.num_kernels = 64\n",
    "# args.bias = True\n",
    "# dec = UNetDecoder(args)\n",
    "\n",
    "vae = VAE(\n",
    "    encoder=enc,\n",
    "    decoder=dec,\n",
    "    kl_reduction=\"mean\"\n",
    ")"
   ]
  },
  {
   "cell_type": "code",
   "execution_count": 31,
   "id": "5aa2e839",
   "metadata": {},
   "outputs": [
    {
     "name": "stdout",
     "output_type": "stream",
     "text": [
      "Number of parameters in VAE: 103829\n"
     ]
    }
   ],
   "source": [
    "# count number of parameters in vae\n",
    "num_params = sum(p.numel() for p in vae.parameters() if p.requires_grad)\n",
    "print(f\"Number of parameters in VAE: {num_params}\")"
   ]
  },
  {
   "cell_type": "code",
   "execution_count": 4,
   "id": "57c3dc6c",
   "metadata": {},
   "outputs": [
    {
     "data": {
      "text/plain": [
       "torch.Size([1, 1, 32, 32])"
      ]
     },
     "execution_count": 4,
     "metadata": {},
     "output_type": "execute_result"
    }
   ],
   "source": [
    "example_image = torch.randn(1, num_channels, image_dims, image_dims)\n",
    "# normalize the image to (-1, 1)\n",
    "example_image = example_image * 2 - 1\n",
    "\n",
    "vae(example_image)[0].shape"
   ]
  },
  {
   "cell_type": "markdown",
   "id": "9bb23ce8",
   "metadata": {},
   "source": [
    "now train the model on the dataset"
   ]
  },
  {
   "cell_type": "code",
   "execution_count": 6,
   "id": "878e98d2",
   "metadata": {},
   "outputs": [],
   "source": [
    "from utils.hdisks1 import random_two_disk_dataset\n",
    "# random sample of disks\n",
    "data = random_two_disk_dataset(\n",
    "    delta_id=.2,\n",
    "    d=10, outer_radius=4, transition_width=2,\n",
    "    img_size=32, num_imgs=5e4,\n",
    "    # ib=0.2\n",
    ")[0]"
   ]
  },
  {
   "cell_type": "code",
   "execution_count": 7,
   "id": "dedec2e8",
   "metadata": {},
   "outputs": [],
   "source": [
    "from utils.hdisks2 import random_two_disk_dataset\n",
    "\n",
    "data = random_two_disk_dataset(\n",
    "    d=10, outer_radius=4, transition_width=2,\n",
    "    img_size=32, num_imgs=5e4,\n",
    ")[0]"
   ]
  },
  {
   "cell_type": "code",
   "execution_count": 8,
   "id": "859c7e9d",
   "metadata": {},
   "outputs": [],
   "source": [
    "from utils.disks import DiskDataset\n",
    "from torch.utils.data import DataLoader\n",
    "dataset = DiskDataset(data)\n",
    "dataloader = DataLoader(dataset, batch_size=256, shuffle=True)"
   ]
  },
  {
   "cell_type": "code",
   "execution_count": 9,
   "id": "8f7340a8",
   "metadata": {},
   "outputs": [
    {
     "name": "stdout",
     "output_type": "stream",
     "text": [
      "torch.Size([256, 1, 32, 32])\n",
      "tensor(-0.9961)\n",
      "tensor(0.9974)\n"
     ]
    }
   ],
   "source": [
    "for batch in dataloader:\n",
    "    print(batch.shape)\n",
    "    print(batch.min())\n",
    "    print(batch.max())\n",
    "    break"
   ]
  },
  {
   "cell_type": "code",
   "execution_count": 32,
   "id": "d97e23f4",
   "metadata": {},
   "outputs": [
    {
     "name": "stderr",
     "output_type": "stream",
     "text": [
      "  0%|                                                                                     | 0/200 [00:00<?, ?it/s]"
     ]
    },
    {
     "name": "stderr",
     "output_type": "stream",
     "text": [
      "  0%|▍                                                                            | 1/200 [00:01<04:25,  1.33s/it]"
     ]
    },
    {
     "name": "stdout",
     "output_type": "stream",
     "text": [
      "Epoch 1, Loss: 0.0171, MSE Loss: 0.0170, KL weight: 0.0000, KL Loss: 48.8948\n"
     ]
    },
    {
     "name": "stderr",
     "output_type": "stream",
     "text": [
      "  1%|▊                                                                            | 2/200 [00:02<04:23,  1.33s/it]"
     ]
    },
    {
     "name": "stdout",
     "output_type": "stream",
     "text": [
      "Epoch 2, Loss: 0.0170, MSE Loss: 0.0170, KL weight: 0.0000, KL Loss: 45.6082\n"
     ]
    },
    {
     "name": "stderr",
     "output_type": "stream",
     "text": [
      "  2%|█▏                                                                           | 3/200 [00:03<04:21,  1.33s/it]"
     ]
    },
    {
     "name": "stdout",
     "output_type": "stream",
     "text": [
      "Epoch 3, Loss: 0.0132, MSE Loss: 0.0132, KL weight: 0.0000, KL Loss: 46.7967\n"
     ]
    },
    {
     "name": "stderr",
     "output_type": "stream",
     "text": [
      "  2%|█▌                                                                           | 4/200 [00:05<04:20,  1.33s/it]"
     ]
    },
    {
     "name": "stdout",
     "output_type": "stream",
     "text": [
      "Epoch 4, Loss: 0.0100, MSE Loss: 0.0100, KL weight: 0.0000, KL Loss: 45.2733\n"
     ]
    },
    {
     "name": "stderr",
     "output_type": "stream",
     "text": [
      "  2%|█▉                                                                           | 5/200 [00:06<04:18,  1.33s/it]"
     ]
    },
    {
     "name": "stdout",
     "output_type": "stream",
     "text": [
      "Epoch 5, Loss: 0.0074, MSE Loss: 0.0074, KL weight: 0.0000, KL Loss: 48.4125\n"
     ]
    },
    {
     "name": "stderr",
     "output_type": "stream",
     "text": [
      "  3%|██▎                                                                          | 6/200 [00:07<04:17,  1.33s/it]"
     ]
    },
    {
     "name": "stdout",
     "output_type": "stream",
     "text": [
      "Epoch 6, Loss: 0.0059, MSE Loss: 0.0059, KL weight: 0.0000, KL Loss: 51.0185\n"
     ]
    },
    {
     "name": "stderr",
     "output_type": "stream",
     "text": [
      "  4%|██▋                                                                          | 7/200 [00:09<04:15,  1.33s/it]"
     ]
    },
    {
     "name": "stdout",
     "output_type": "stream",
     "text": [
      "Epoch 7, Loss: 0.0066, MSE Loss: 0.0066, KL weight: 0.0000, KL Loss: 51.7659\n"
     ]
    },
    {
     "name": "stderr",
     "output_type": "stream",
     "text": [
      "  4%|███                                                                          | 8/200 [00:10<04:14,  1.33s/it]"
     ]
    },
    {
     "name": "stdout",
     "output_type": "stream",
     "text": [
      "Epoch 8, Loss: 0.0050, MSE Loss: 0.0050, KL weight: 0.0000, KL Loss: 51.4735\n"
     ]
    },
    {
     "name": "stderr",
     "output_type": "stream",
     "text": [
      "  4%|███▍                                                                         | 9/200 [00:11<04:12,  1.32s/it]"
     ]
    },
    {
     "name": "stdout",
     "output_type": "stream",
     "text": [
      "Epoch 9, Loss: 0.0052, MSE Loss: 0.0052, KL weight: 0.0000, KL Loss: 52.2381\n"
     ]
    },
    {
     "name": "stderr",
     "output_type": "stream",
     "text": [
      "  5%|███▊                                                                        | 10/200 [00:13<04:11,  1.33s/it]"
     ]
    },
    {
     "name": "stdout",
     "output_type": "stream",
     "text": [
      "Epoch 10, Loss: 0.0042, MSE Loss: 0.0042, KL weight: 0.0000, KL Loss: 54.0526\n"
     ]
    },
    {
     "name": "stderr",
     "output_type": "stream",
     "text": [
      "  6%|████▏                                                                       | 11/200 [00:14<04:10,  1.33s/it]"
     ]
    },
    {
     "name": "stdout",
     "output_type": "stream",
     "text": [
      "Epoch 11, Loss: 0.0042, MSE Loss: 0.0042, KL weight: 0.0000, KL Loss: 51.4153\n"
     ]
    },
    {
     "name": "stderr",
     "output_type": "stream",
     "text": [
      " 10%|███████▉                                                                    | 21/200 [00:27<03:58,  1.33s/it]"
     ]
    },
    {
     "name": "stdout",
     "output_type": "stream",
     "text": [
      "Epoch 21, Loss: 0.0034, MSE Loss: 0.0034, KL weight: 0.0000, KL Loss: 48.5165\n"
     ]
    },
    {
     "name": "stderr",
     "output_type": "stream",
     "text": [
      " 16%|███████████▊                                                                | 31/200 [00:41<03:45,  1.33s/it]"
     ]
    },
    {
     "name": "stdout",
     "output_type": "stream",
     "text": [
      "Epoch 31, Loss: 0.0023, MSE Loss: 0.0023, KL weight: 0.0000, KL Loss: 49.6190\n"
     ]
    },
    {
     "name": "stderr",
     "output_type": "stream",
     "text": [
      " 20%|███████████████▌                                                            | 41/200 [00:54<03:31,  1.33s/it]"
     ]
    },
    {
     "name": "stdout",
     "output_type": "stream",
     "text": [
      "Epoch 41, Loss: 0.0021, MSE Loss: 0.0021, KL weight: 0.0000, KL Loss: 51.1529\n"
     ]
    },
    {
     "name": "stderr",
     "output_type": "stream",
     "text": [
      " 26%|███████████████████▍                                                        | 51/200 [01:07<03:18,  1.33s/it]"
     ]
    },
    {
     "name": "stdout",
     "output_type": "stream",
     "text": [
      "Epoch 51, Loss: 0.0017, MSE Loss: 0.0017, KL weight: 0.0000, KL Loss: 48.5338\n"
     ]
    },
    {
     "name": "stderr",
     "output_type": "stream",
     "text": [
      " 30%|███████████████████████▏                                                    | 61/200 [01:21<03:04,  1.33s/it]"
     ]
    },
    {
     "name": "stdout",
     "output_type": "stream",
     "text": [
      "Epoch 61, Loss: 0.0019, MSE Loss: 0.0019, KL weight: 0.0000, KL Loss: 48.2033\n"
     ]
    },
    {
     "name": "stderr",
     "output_type": "stream",
     "text": [
      " 36%|██████████████████████████▉                                                 | 71/200 [01:34<02:52,  1.33s/it]"
     ]
    },
    {
     "name": "stdout",
     "output_type": "stream",
     "text": [
      "Epoch 71, Loss: 0.0016, MSE Loss: 0.0016, KL weight: 0.0000, KL Loss: 46.5899\n"
     ]
    },
    {
     "name": "stderr",
     "output_type": "stream",
     "text": [
      " 40%|██████████████████████████████▊                                             | 81/200 [01:47<02:39,  1.34s/it]"
     ]
    },
    {
     "name": "stdout",
     "output_type": "stream",
     "text": [
      "Epoch 81, Loss: 0.0015, MSE Loss: 0.0015, KL weight: 0.0000, KL Loss: 48.2233\n"
     ]
    },
    {
     "name": "stderr",
     "output_type": "stream",
     "text": [
      " 46%|██████████████████████████████████▌                                         | 91/200 [02:01<02:25,  1.33s/it]"
     ]
    },
    {
     "name": "stdout",
     "output_type": "stream",
     "text": [
      "Epoch 91, Loss: 0.0016, MSE Loss: 0.0015, KL weight: 0.0000, KL Loss: 48.9921\n"
     ]
    },
    {
     "name": "stderr",
     "output_type": "stream",
     "text": [
      " 50%|█████████████████████████████████████▉                                     | 101/200 [02:14<02:12,  1.33s/it]"
     ]
    },
    {
     "name": "stdout",
     "output_type": "stream",
     "text": [
      "Epoch 101, Loss: 0.0014, MSE Loss: 0.0014, KL weight: 0.0000, KL Loss: 46.5526\n"
     ]
    },
    {
     "name": "stderr",
     "output_type": "stream",
     "text": [
      " 56%|█████████████████████████████████████████▋                                 | 111/200 [02:27<01:58,  1.33s/it]"
     ]
    },
    {
     "name": "stdout",
     "output_type": "stream",
     "text": [
      "Epoch 111, Loss: 0.0014, MSE Loss: 0.0014, KL weight: 0.0000, KL Loss: 46.4958\n"
     ]
    },
    {
     "name": "stderr",
     "output_type": "stream",
     "text": [
      " 60%|█████████████████████████████████████████████▍                             | 121/200 [02:41<01:45,  1.33s/it]"
     ]
    },
    {
     "name": "stdout",
     "output_type": "stream",
     "text": [
      "Epoch 121, Loss: 0.0011, MSE Loss: 0.0011, KL weight: 0.0000, KL Loss: 45.3460\n"
     ]
    },
    {
     "name": "stderr",
     "output_type": "stream",
     "text": [
      " 66%|█████████████████████████████████████████████████▏                         | 131/200 [02:54<01:31,  1.33s/it]"
     ]
    },
    {
     "name": "stdout",
     "output_type": "stream",
     "text": [
      "Epoch 131, Loss: 0.0011, MSE Loss: 0.0011, KL weight: 0.0000, KL Loss: 45.1323\n"
     ]
    },
    {
     "name": "stderr",
     "output_type": "stream",
     "text": [
      " 70%|████████████████████████████████████████████████████▉                      | 141/200 [03:07<01:18,  1.33s/it]"
     ]
    },
    {
     "name": "stdout",
     "output_type": "stream",
     "text": [
      "Epoch 141, Loss: 0.0012, MSE Loss: 0.0012, KL weight: 0.0000, KL Loss: 45.9092\n"
     ]
    },
    {
     "name": "stderr",
     "output_type": "stream",
     "text": [
      " 76%|████████████████████████████████████████████████████████▋                  | 151/200 [03:21<01:05,  1.34s/it]"
     ]
    },
    {
     "name": "stdout",
     "output_type": "stream",
     "text": [
      "Epoch 151, Loss: 0.0009, MSE Loss: 0.0009, KL weight: 0.0000, KL Loss: 45.0829\n"
     ]
    },
    {
     "name": "stderr",
     "output_type": "stream",
     "text": [
      " 80%|████████████████████████████████████████████████████████████▍              | 161/200 [03:34<00:51,  1.33s/it]"
     ]
    },
    {
     "name": "stdout",
     "output_type": "stream",
     "text": [
      "Epoch 161, Loss: 0.0011, MSE Loss: 0.0011, KL weight: 0.0000, KL Loss: 45.0632\n"
     ]
    },
    {
     "name": "stderr",
     "output_type": "stream",
     "text": [
      " 86%|████████████████████████████████████████████████████████████████▏          | 171/200 [03:47<00:38,  1.33s/it]"
     ]
    },
    {
     "name": "stdout",
     "output_type": "stream",
     "text": [
      "Epoch 171, Loss: 0.0010, MSE Loss: 0.0010, KL weight: 0.0000, KL Loss: 44.9005\n"
     ]
    },
    {
     "name": "stderr",
     "output_type": "stream",
     "text": [
      " 90%|███████████████████████████████████████████████████████████████████▉       | 181/200 [04:01<00:25,  1.32s/it]"
     ]
    },
    {
     "name": "stdout",
     "output_type": "stream",
     "text": [
      "Epoch 181, Loss: 0.0010, MSE Loss: 0.0010, KL weight: 0.0000, KL Loss: 44.5918\n"
     ]
    },
    {
     "name": "stderr",
     "output_type": "stream",
     "text": [
      " 96%|███████████████████████████████████████████████████████████████████████▋   | 191/200 [04:14<00:11,  1.33s/it]"
     ]
    },
    {
     "name": "stdout",
     "output_type": "stream",
     "text": [
      "Epoch 191, Loss: 0.0011, MSE Loss: 0.0011, KL weight: 0.0000, KL Loss: 45.5784\n"
     ]
    },
    {
     "name": "stderr",
     "output_type": "stream",
     "text": [
      "100%|███████████████████████████████████████████████████████████████████████████| 200/200 [04:26<00:00,  1.33s/it]\n"
     ]
    }
   ],
   "source": [
    "# now train model\n",
    "import torch.optim as optim\n",
    "import torch.nn as nn\n",
    "from tqdm import tqdm\n",
    "\n",
    "vae.train()\n",
    "vae.to(device)\n",
    "criterion = nn.MSELoss()\n",
    "optimizer = optim.Adam(vae.parameters(), lr=1e-3)\n",
    "criterion = nn.MSELoss()\n",
    "n_epochs = 200\n",
    "\n",
    "# kl annealing schedule\n",
    "kl_weight = 0.0\n",
    "def kl_annealing(epoch, n_epochs_anneal, schedule='linear', end_value = 1.):\n",
    "    if schedule == 'linear':\n",
    "        if epoch < n_epochs_anneal:\n",
    "            kl_weight = end_value * (epoch / n_epochs_anneal)\n",
    "        else:\n",
    "            kl_weight = end_value\n",
    "    elif schedule == 'cosine':\n",
    "        if epoch < n_epochs_anneal:\n",
    "            # cosine annealing from 0 to 1\n",
    "            kl_weight = (1 - 0.5 * (1 + np.cos(np.pi * epoch / n_epochs_anneal))) * end_value\n",
    "        else:\n",
    "            kl_weight = end_value\n",
    "    elif schedule == \"constant\":\n",
    "        kl_weight = end_value\n",
    "    return kl_weight\n",
    "\n",
    "for epoch in tqdm(range(n_epochs)):\n",
    "    for batch in dataloader:\n",
    "        batch = batch.to(device)\n",
    "        optimizer.zero_grad()\n",
    "        output = vae(batch)[0]\n",
    "        mse_loss = criterion(output, batch)\n",
    "        kl_weight = kl_annealing(epoch, 10, schedule='constant', end_value = 1e-7)\n",
    "        # kl_weight = 1\n",
    "        kl_loss = vae.kl\n",
    "        # Combine losses\n",
    "        loss = mse_loss + kl_loss * kl_weight\n",
    "        loss.backward()\n",
    "        optimizer.step()\n",
    "    if epoch % 10 == 0 or epoch < 10:\n",
    "        print(f\"Epoch {epoch + 1}, Loss: {loss.item():.4f}, MSE Loss: {mse_loss.item():.4f}, KL weight: {kl_weight:.4f}, KL Loss: {kl_loss.item():.4f}\")"
   ]
  },
  {
   "cell_type": "code",
   "execution_count": 98,
   "id": "948eda01",
   "metadata": {},
   "outputs": [],
   "source": [
    "# save model\n",
    "mode = 'load'\n",
    "\n",
    "save_dir = \"./b_models/saved_weights\"\n",
    "if mode == \"save\":\n",
    "    torch.save(vae.state_dict(), os.path.join(save_dir, 'vae.pth'))\n",
    "elif mode == \"load\":\n",
    "    vae.load_state_dict(torch.load(os.path.join(save_dir, 'vae.pth')))"
   ]
  },
  {
   "cell_type": "code",
   "execution_count": 99,
   "id": "c34d7fad",
   "metadata": {},
   "outputs": [
    {
     "name": "stdout",
     "output_type": "stream",
     "text": [
      "tensor(-0.8932) tensor(-0.9681) tensor(-0.2534) tensor(-0.2910)\n",
      "Test Loss: 0.0007\n"
     ]
    },
    {
     "data": {
      "image/png": "[encoded data removed]",
      "text/plain": [
       "<Figure size 1000x500 with 2 Axes>"
      ]
     },
     "metadata": {},
     "output_type": "display_data"
    }
   ],
   "source": [
    "from utils.base_utils import to_01, to_0c\n",
    "img_idx = 11\n",
    "\n",
    "test_img = to_0c(data[img_idx]).unsqueeze(1).to(device)\n",
    "\n",
    "vae.eval()\n",
    "xout, xin = vae(test_img)[0:2]\n",
    "xout = xout.detach().cpu()\n",
    "xin = xin.detach().cpu()\n",
    "\n",
    "print(xin.min(), xout.min(), xin.max(), xout.max())\n",
    "test_loss = criterion(xin, xout).item()\n",
    "print(f\"Test Loss: {test_loss:.4f}\")\n",
    "\n",
    "fig, ax = plt.subplots(1, 2, figsize=(10, 5))\n",
    "ax[0].imshow(to_01(xin).squeeze(0, 1), cmap=\"gray\", vmin=0, vmax=1)\n",
    "ax[0].set_title(\"Input Image\")\n",
    "ax[0].axis(\"off\");\n",
    "\n",
    "ax[1].imshow(to_01(xout).squeeze(0, 1), cmap=\"gray\", vmin=0, vmax=1)\n",
    "ax[1].set_title(\"Reconstructed Image\")\n",
    "ax[1].axis(\"off\");\n",
    "\n"
   ]
  },
  {
   "cell_type": "code",
   "execution_count": 34,
   "id": "bbd6eb69",
   "metadata": {},
   "outputs": [
    {
     "name": "stdout",
     "output_type": "stream",
     "text": [
      "tensor(-0.9783) tensor(-1.0666) tensor(0.8490) tensor(0.9498)\n",
      "Test Loss: 0.0010\n"
     ]
    },
    {
     "data": {
      "image/png": "[encoded data removed]",
      "text/plain": [
       "<Figure size 1300x500 with 10 Axes>"
      ]
     },
     "metadata": {},
     "output_type": "display_data"
    }
   ],
   "source": [
    "from utils.base_utils import to_01, to_0c\n",
    "test_img = to_0c(data[11:16]).to(device)\n",
    "\n",
    "vae.eval()\n",
    "out = vae(test_img)\n",
    "xout = out[0]\n",
    "xin = out[1]\n",
    "xout = xout.detach().cpu()\n",
    "xin = xin.detach().cpu()\n",
    "\n",
    "print(xin.min(), xout.min(), xin.max(), xout.max())\n",
    "test_loss = criterion(xin, xout).item()\n",
    "print(f\"Test Loss: {test_loss:.4f}\")\n",
    "\n",
    "fig, ax = plt.subplots(2, len(test_img), figsize=(13, 5))\n",
    "for i in range(len(test_img)):\n",
    "    ax[0, i].imshow(to_01(xin[i]).squeeze(0, 1), cmap=\"gray\", vmin=0, vmax=1)\n",
    "    # ax[0, i].set_title(\"Input Image\")\n",
    "    ax[0, i].axis(\"off\");\n",
    "\n",
    "    ax[1, i].imshow(to_01(xout[i]).squeeze(0, 1), cmap=\"gray\", vmin=0, vmax=1)\n",
    "    # ax[1, i].set_title(\"Reconstructed Image\")\n",
    "    ax[1, i].axis(\"off\");\n"
   ]
  },
  {
   "cell_type": "markdown",
   "id": "8a23b80c",
   "metadata": {},
   "source": [
    "## covariance spectrum"
   ]
  },
  {
   "cell_type": "code",
   "execution_count": 87,
   "id": "d5d07264",
   "metadata": {},
   "outputs": [
    {
     "data": {
      "image/png": "[encoded data removed]",
      "text/plain": [
       "<Figure size 1000x500 with 2 Axes>"
      ]
     },
     "metadata": {},
     "output_type": "display_data"
    },
    {
     "name": "stdout",
     "output_type": "stream",
     "text": [
      "[[5 2 0 1 3 4]]\n"
     ]
    },
    {
     "data": {
      "image/png": "[encoded data removed]",
      "text/plain": [
       "<Figure size 640x480 with 1 Axes>"
      ]
     },
     "metadata": {},
     "output_type": "display_data"
    }
   ],
   "source": [
    "img_idx = 12\n",
    "\n",
    "test_img = to_0c(data[img_idx]).unsqueeze(1).to(device)\n",
    "\n",
    "xhat_base = vae(test_img)[0]\n",
    "fig, ax = plt.subplots(1, 2, figsize=(10, 5))\n",
    "ax[0].imshow(to_01(test_img).squeeze(0, 1).cpu().detach().numpy(), vmin=0, vmax=1, cmap='gray')\n",
    "ax[0].set_title('Ground Truth')\n",
    "ax[1].imshow(to_01(xhat_base).squeeze(0, 1).cpu().detach().numpy(), vmin=0, vmax=1, cmap='gray')\n",
    "ax[1].set_title('Reconstructed')\n",
    "plt.show()\n",
    "\n",
    "z, mu, cov = vae.encoder(test_img)\n",
    "cov = cov.detach().cpu().numpy()\n",
    "cov_sort = np.flip(np.sort(cov, axis=1))\n",
    "# get argsort\n",
    "cov_argsort = np.flip(np.argsort(cov, axis=1))\n",
    "\n",
    "fig, ax = plt.subplots(1, 1)\n",
    "ax.plot(cov_sort.squeeze(0))\n",
    "print(cov_argsort)"
   ]
  },
  {
   "cell_type": "code",
   "execution_count": 94,
   "id": "32550899",
   "metadata": {},
   "outputs": [
    {
     "name": "stdout",
     "output_type": "stream",
     "text": [
      "torch.Size([11, 32, 32])\n"
     ]
    }
   ],
   "source": [
    "# now perturb along one axis and see what the decoded images look like\n",
    "mu_base = mu.clone()\n",
    "perturbations = np.linspace(-1, 1, 11)  # perturbations from -1 to 1 in 10 steps\n",
    "perturbed_mus = torch.empty((len(perturbations), mu.shape[1])).to(device)\n",
    "\n",
    "variance_mode = 0  # the index of the nth largest variance\n",
    "for j in range(len(perturbations)):\n",
    "    perturbed_mu = mu_base.clone()\n",
    "    perturbed_mu[:, cov_argsort[0, variance_mode]] += perturbations[j]  # perturb by delta * 0.1 along the j-th axis\n",
    "    perturbed_mus[j] = perturbed_mu.squeeze(0)\n",
    "\n",
    "xhat_perturb = vae.decoder(perturbed_mus).squeeze(1)\n",
    "print(xhat_perturb.shape)\n"
   ]
  },
  {
   "cell_type": "code",
   "execution_count": 96,
   "id": "454abbdb",
   "metadata": {},
   "outputs": [
    {
     "data": {
      "image/png": "[encoded data removed]",
      "text/plain": [
       "<Figure size 1500x500 with 11 Axes>"
      ]
     },
     "metadata": {},
     "output_type": "display_data"
    }
   ],
   "source": [
    "fig, ax = plt.subplots(1, len(perturbations), figsize=(15, 5))\n",
    "for j in range(len(perturbations)):\n",
    "    ax[j].imshow(to_01(xhat_perturb[j]).cpu().detach().numpy(), vmin=0, vmax=1, cmap='gray')\n",
    "    ax[j].axis('off')\n",
    "plt.show()\n"
   ]
  },
  {
   "cell_type": "code",
   "execution_count": null,
   "id": "d32244e0",
   "metadata": {},
   "outputs": [],
   "source": []
  }
 ],
 "metadata": {
  "kernelspec": {
   "display_name": "py310_kernel",
   "language": "python",
   "name": "py310_kernel"
  },
  "language_info": {
   "codemirror_mode": {
    "name": "ipython",
    "version": 3
   },
   "file_extension": ".py",
   "mimetype": "text/x-python",
   "name": "python",
   "nbconvert_exporter": "python",
   "pygments_lexer": "ipython3",
   "version": "3.10.13"
  }
 },
 "nbformat": 4,
 "nbformat_minor": 5
}
